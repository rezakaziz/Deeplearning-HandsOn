{
  "nbformat": 4,
  "nbformat_minor": 0,
  "metadata": {
    "colab": {
      "provenance": [],
      "authorship_tag": "ABX9TyP9Zdb6JE0WM1DExN6sVHCW",
      "include_colab_link": true
    },
    "kernelspec": {
      "name": "python3",
      "display_name": "Python 3"
    },
    "language_info": {
      "name": "python"
    }
  },
  "cells": [
    {
      "cell_type": "markdown",
      "metadata": {
        "id": "view-in-github",
        "colab_type": "text"
      },
      "source": [
        "<a href=\"https://colab.research.google.com/github/rezakaziz/Deeplearning-HandsOn/blob/main/Pytorch.ipynb\" target=\"_parent\"><img src=\"https://colab.research.google.com/assets/colab-badge.svg\" alt=\"Open In Colab\"/></a>"
      ]
    },
    {
      "cell_type": "code",
      "execution_count": 1,
      "metadata": {
        "id": "FK1cJyjJy8Oy"
      },
      "outputs": [],
      "source": [
        "import torch"
      ]
    },
    {
      "cell_type": "code",
      "source": [
        "uninitialized = torch.Tensor(3,2)\n",
        "rand_initialized = torch.rand(3,2)\n",
        "matrix_with_ones = torch.ones(3,2)\n",
        "matrix_with_zeros = torch.zeros(3,2)"
      ],
      "metadata": {
        "id": "vflDK8vSzQqJ"
      },
      "execution_count": 2,
      "outputs": []
    },
    {
      "cell_type": "code",
      "source": [
        "rand_initialized.size()"
      ],
      "metadata": {
        "colab": {
          "base_uri": "https://localhost:8080/"
        },
        "id": "QNo_jiGkzo7o",
        "outputId": "d86a55a2-aebb-4ab3-e8ab-58692dfdc825"
      },
      "execution_count": 5,
      "outputs": [
        {
          "output_type": "execute_result",
          "data": {
            "text/plain": [
              "torch.Size([3, 2])"
            ]
          },
          "metadata": {},
          "execution_count": 5
        }
      ]
    },
    {
      "cell_type": "code",
      "source": [
        "rand_initialized.shape"
      ],
      "metadata": {
        "colab": {
          "base_uri": "https://localhost:8080/"
        },
        "id": "qOLVY24SzqXl",
        "outputId": "d522e998-d252-44f8-fa02-7d9458a5e306"
      },
      "execution_count": 6,
      "outputs": [
        {
          "output_type": "execute_result",
          "data": {
            "text/plain": [
              "torch.Size([3, 2])"
            ]
          },
          "metadata": {},
          "execution_count": 6
        }
      ]
    },
    {
      "cell_type": "code",
      "source": [
        "x = torch.ones(3,2)\n",
        "y = torch.ones(3,2)+2\n",
        "z = torch.ones(2,1)\n",
        "\n",
        "# * will do element wise operation and gives a tensor of the same shape\n",
        "# @ to do matrix multiplication\n",
        "x*y@z"
      ],
      "metadata": {
        "colab": {
          "base_uri": "https://localhost:8080/"
        },
        "id": "COyDhdEQ0BxV",
        "outputId": "bf598708-4718-4668-b45f-56ae62b51915"
      },
      "execution_count": 8,
      "outputs": [
        {
          "output_type": "execute_result",
          "data": {
            "text/plain": [
              "tensor([[6.],\n",
              "        [6.],\n",
              "        [6.]])"
            ]
          },
          "metadata": {},
          "execution_count": 8
        }
      ]
    },
    {
      "cell_type": "code",
      "source": [
        "# addition between two matrices\n",
        "x = torch.ones(3,2)\n",
        "y = torch.ones(3,2)\n",
        "print(\"x = \", x)\n",
        "print(\"y = \", y)\n",
        "print(\"addition\")\n",
        "print(\"x+y = \",x+y)\n",
        "print(\"x.add(y) = \",x.add(y))\n",
        "# n-place operators follow the convention of the trailing underscore, like add_ and sub_.\n",
        "print(\"In place addition\")\n",
        "x.add_(y)\n",
        "print(\"x = \",x)"
      ],
      "metadata": {
        "colab": {
          "base_uri": "https://localhost:8080/"
        },
        "id": "NpYt1YzW0mDt",
        "outputId": "94b7f490-c17f-41d4-c82e-0151cfb60b94"
      },
      "execution_count": 16,
      "outputs": [
        {
          "output_type": "stream",
          "name": "stdout",
          "text": [
            "x =  tensor([[1., 1.],\n",
            "        [1., 1.],\n",
            "        [1., 1.]])\n",
            "y =  tensor([[1., 1.],\n",
            "        [1., 1.],\n",
            "        [1., 1.]])\n",
            "addition\n",
            "x+y =  tensor([[2., 2.],\n",
            "        [2., 2.],\n",
            "        [2., 2.]])\n",
            "x.add(y) =  tensor([[2., 2.],\n",
            "        [2., 2.],\n",
            "        [2., 2.]])\n",
            "In place addition\n",
            "x =  tensor([[2., 2.],\n",
            "        [2., 2.],\n",
            "        [2., 2.]])\n"
          ]
        }
      ]
    },
    {
      "cell_type": "code",
      "source": [
        "# Concatenation\n",
        "x = torch.ones(3,2)\n",
        "y = torch.ones(3,2)\n",
        "\n",
        "print(\"Concatenation in the first dimenstion\",torch.cat((x,y),0).shape)\n",
        "print(\"Concatenation in the second dimenstion\",torch.cat((x,y),1).shape)"
      ],
      "metadata": {
        "colab": {
          "base_uri": "https://localhost:8080/"
        },
        "id": "I6IfIHmf1YIJ",
        "outputId": "215eccfe-154a-4414-bcab-0d928a6e0805"
      },
      "execution_count": 26,
      "outputs": [
        {
          "output_type": "stream",
          "name": "stdout",
          "text": [
            "Concatenation in the first dimenstion torch.Size([6, 2])\n",
            "Concatenation in the second dimenstion torch.Size([3, 4])\n"
          ]
        }
      ]
    },
    {
      "cell_type": "code",
      "source": [
        "# Stack is adding a new dimension\n",
        "x = torch.ones(3,2)\n",
        "y = torch.ones(3,2)\n",
        "\n",
        "print(\"Concatenation in the first dimenstion\",torch.stack((x,y),0).shape)\n",
        "print(\"Concatenation in the second dimenstion\",torch.stack((x,y),1).shape)"
      ],
      "metadata": {
        "colab": {
          "base_uri": "https://localhost:8080/"
        },
        "id": "Z7Ybr0p82qvO",
        "outputId": "d08f1691-4cff-40dc-968c-8f14199e2b38"
      },
      "execution_count": 28,
      "outputs": [
        {
          "output_type": "stream",
          "name": "stdout",
          "text": [
            "Concatenation in the first dimenstion torch.Size([2, 3, 2])\n",
            "Concatenation in the second dimenstion torch.Size([3, 2, 2])\n"
          ]
        }
      ]
    },
    {
      "cell_type": "code",
      "source": [
        "#Internals of pytorch\n",
        "\n",
        "import numpy as np\n",
        "\n",
        "x = torch.ones(2,2)\n",
        "xv = x.view(-1)\n",
        "xn = x.numpy()\n",
        "print(x)\n",
        "print(xv)\n",
        "print(xn)"
      ],
      "metadata": {
        "colab": {
          "base_uri": "https://localhost:8080/"
        },
        "id": "Hl2Ermgl3ej1",
        "outputId": "c61d404e-2952-4ebf-e635-6c8009b06b3e"
      },
      "execution_count": 29,
      "outputs": [
        {
          "output_type": "stream",
          "name": "stdout",
          "text": [
            "tensor([[1., 1.],\n",
            "        [1., 1.]])\n",
            "tensor([1., 1., 1., 1.])\n",
            "[[1. 1.]\n",
            " [1. 1.]]\n"
          ]
        }
      ]
    },
    {
      "cell_type": "code",
      "source": [
        "x.storage()"
      ],
      "metadata": {
        "colab": {
          "base_uri": "https://localhost:8080/"
        },
        "id": "2gDD7udF72aS",
        "outputId": "d650934f-ae76-4a9d-d820-5154b202706f"
      },
      "execution_count": 31,
      "outputs": [
        {
          "output_type": "stream",
          "name": "stderr",
          "text": [
            "<ipython-input-31-034ee9886547>:1: UserWarning: TypedStorage is deprecated. It will be removed in the future and UntypedStorage will be the only storage class. This should only matter to you if you are using storages directly.  To access UntypedStorage directly, use tensor.untyped_storage() instead of tensor.storage()\n",
            "  x.storage()\n"
          ]
        },
        {
          "output_type": "execute_result",
          "data": {
            "text/plain": [
              " 1.0\n",
              " 1.0\n",
              " 1.0\n",
              " 1.0\n",
              "[torch.storage.TypedStorage(dtype=torch.float32, device=cpu) of size 4]"
            ]
          },
          "metadata": {},
          "execution_count": 31
        }
      ]
    },
    {
      "cell_type": "code",
      "source": [
        "xv.storage()"
      ],
      "metadata": {
        "colab": {
          "base_uri": "https://localhost:8080/"
        },
        "id": "QlFeoIg478Da",
        "outputId": "ed88b586-331a-4cdc-f12b-b882355b430c"
      },
      "execution_count": 32,
      "outputs": [
        {
          "output_type": "execute_result",
          "data": {
            "text/plain": [
              " 1.0\n",
              " 1.0\n",
              " 1.0\n",
              " 1.0\n",
              "[torch.storage.TypedStorage(dtype=torch.float32, device=cpu) of size 4]"
            ]
          },
          "metadata": {},
          "execution_count": 32
        }
      ]
    },
    {
      "cell_type": "code",
      "source": [
        "x[0,0] = 20\n"
      ],
      "metadata": {
        "colab": {
          "base_uri": "https://localhost:8080/"
        },
        "id": "WyOwRlTo8Eeq",
        "outputId": "53794fff-1063-4253-bee7-7b37dfcbb380"
      },
      "execution_count": 33,
      "outputs": [
        {
          "output_type": "execute_result",
          "data": {
            "text/plain": [
              "tensor([[20.,  1.],\n",
              "        [ 1.,  1.]])"
            ]
          },
          "metadata": {},
          "execution_count": 33
        }
      ]
    },
    {
      "cell_type": "code",
      "source": [
        "print(x)\n",
        "print(xv)\n",
        "print(xn)\n"
      ],
      "metadata": {
        "colab": {
          "base_uri": "https://localhost:8080/"
        },
        "id": "nFa0QrzH8S6C",
        "outputId": "f64752c4-e800-4232-9d91-2ea0c2a96b20"
      },
      "execution_count": 34,
      "outputs": [
        {
          "output_type": "stream",
          "name": "stdout",
          "text": [
            "tensor([[20.,  1.],\n",
            "        [ 1.,  1.]])\n",
            "tensor([20.,  1.,  1.,  1.])\n",
            "[[20.  1.]\n",
            " [ 1.  1.]]\n"
          ]
        }
      ]
    },
    {
      "cell_type": "code",
      "source": [],
      "metadata": {
        "id": "QR85GaxJ8WwK"
      },
      "execution_count": null,
      "outputs": []
    }
  ]
}